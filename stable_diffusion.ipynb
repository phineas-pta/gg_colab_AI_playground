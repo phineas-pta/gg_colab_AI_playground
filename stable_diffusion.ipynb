{
	"cells": [
		{
			"cell_type": "markdown",
			"metadata": {},
			"source": [
				"# Stable Diffusion\n",
				"\n",
				"text-to-image generator\n",
				"\n",
				"official github: https://github.com/CompVis/stable-diffusion\n",
				"\n",
				"notebook copied from https://github.com/woctezuma/stable-diffusion-colab"
			]
		},
		{
			"cell_type": "code",
			"execution_count": null,
			"metadata": {},
			"outputs": [],
			"source": [
				"!nvidia-smi"
			]
		},
		{
			"cell_type": "code",
			"execution_count": null,
			"metadata": {},
			"outputs": [],
			"source": [
				"%pip install --quiet --upgrade diffusers transformers scipy mediapy"
			]
		},
		{
			"cell_type": "code",
			"execution_count": null,
			"metadata": {},
			"outputs": [],
			"source": [
				"import torch, mediapy\n",
				"from diffusers import (\n",
				"\tStableDiffusionPipeline, StableDiffusionImg2ImgPipeline, StableDiffusionInpaintPipeline,\n",
				"\tLMSDiscreteScheduler, # sampler suggested by DreamStudio\n",
				"\tPNDMScheduler, # default in v1\n",
				"\tDDIMScheduler, # default in v2, great results at a blazing fast speed\n",
				"\tEulerDiscreteScheduler, EulerAncestralDiscreteScheduler, # changes generation style a lot at each step\n",
				"\tDPMSolverMultistepScheduler # fastest\n",
				")"
			]
		},
		{
			"cell_type": "markdown",
			"metadata": {},
			"source": [
				"safety check removed"
			]
		},
		{
			"cell_type": "code",
			"execution_count": null,
			"metadata": {},
			"outputs": [],
			"source": [
				"model_id = \"stabilityai/stable-diffusion-2-base\"\n",
				"pipe = StableDiffusionPipeline.from_pretrained(\n",
				"\tmodel_id, scheduler=DDIMScheduler.from_pretrained(model_id, subfolder=\"scheduler\"),\n",
				"\trevision=\"fp16\", torch_dtype=torch.float16, safety_checker=None\n",
				").to(\"cuda\")"
			]
		},
		{
			"cell_type": "code",
			"execution_count": null,
			"metadata": {},
			"outputs": [],
			"source": [
				"images = pipe(\n",
				"\tprompt=\"a photo of an astronaut riding a horse on mars\",\n",
				"\t# negative_prompt=\"\",\n",
				"\t# height=512, width=512,\n",
				"\tnum_images_per_prompt=5,\n",
				"\tguidance_scale=7.5, # should be between 0 and 20\n",
				"\tnum_inference_steps=50 # should be between 10 and 150\n",
				").images\n",
				"\n",
				"mediapy.show_images(images)\n",
				"# images[0].save(\"output.jpg\")"
			]
		}
	],
	"metadata": {
		"accelerator": "GPU",
		"colab": {
			"collapsed_sections": [],
			"name": "stable_diffusion.ipynb",
			"private_outputs": true,
			"provenance": []
		},
		"gpuClass": "standard",
		"kernelspec": {
			"display_name": "Python 3",
			"name": "python3"
		},
		"language_info": {
			"name": "python"
		}
	},
	"nbformat": 4,
	"nbformat_minor": 2
}
