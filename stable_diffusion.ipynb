{
	"cells": [
		{
			"cell_type": "markdown",
			"metadata": {},
			"source": [
				"# Stable Diffusion\n",
				"\n",
				"text-to-image generator\n",
				"\n",
				"official github: https://github.com/CompVis/stable-diffusion\n",
				"\n",
				"notebook copied from https://github.com/woctezuma/stable-diffusion-colab"
			]
		},
		{
			"cell_type": "code",
			"execution_count": null,
			"metadata": {},
			"outputs": [],
			"source": [
				"!nvidia-smi"
			]
		},
		{
			"cell_type": "code",
			"execution_count": null,
			"metadata": {},
			"outputs": [],
			"source": [
				"!python -m torch.utils.collect_env"
			]
		},
		{
			"cell_type": "code",
			"execution_count": null,
			"metadata": {},
			"outputs": [],
			"source": [
				"%pip install -q accelerate diffusers transformers safetensors invisible-watermark scipy mediapy"
			]
		},
		{
			"cell_type": "markdown",
			"metadata": {},
			"source": [
				"hack to use `torch.compile`"
			]
		},
		{
			"cell_type": "code",
			"execution_count": null,
			"metadata": {},
			"outputs": [],
			"source": [
				"%%bash\n",
				"export LC_ALL=\"en_US.UTF-8\"\n",
				"export LD_LIBRARY_PATH=\"/usr/lib64-nvidia\"\n",
				"export LIBRARY_PATH=\"/usr/local/cuda/lib64/stubs\"\n",
				"ldconfig /usr/lib64-nvidia"
			]
		},
		{
			"cell_type": "code",
			"execution_count": null,
			"metadata": {},
			"outputs": [],
			"source": [
				"import torch, mediapy\n",
				"from diffusers import (\n",
				"\tStableDiffusionPipeline,\n",
				"\tStableDiffusionImg2ImgPipeline,\n",
				"\tStableDiffusionXLPipeline,\n",
				"\tStableDiffusionXLImg2ImgPipeline,\n",
				"\n",
				"\tDDIMScheduler,\n",
				"\tEulerDiscreteScheduler,\n",
				"\tDPMSolverSinglestepScheduler,\n",
				"\tDPMSolverMultistepScheduler\n",
				")"
			]
		},
		{
			"cell_type": "code",
			"execution_count": null,
			"metadata": {},
			"outputs": [],
			"source": [
				"model_id = \"stabilityai/stable-diffusion-2-1\"\n",
				"scheduler=DPMSolverMultistepScheduler.from_pretrained(\n",
				"\tmodel_id,\n",
				"\tsubfolder=\"scheduler\",\n",
				"\tuse_karras_sigmas=True,\n",
				"\talgorithm_type=\"sde-dpmsolver++\",\n",
				")\n",
				"pipe = StableDiffusionPipeline.from_pretrained(\n",
				"\tmodel_id,\n",
				"\tscheduler=scheduler,\n",
				"\trevision=\"fp16\",\n",
				"\ttorch_dtype=torch.float16,\n",
				"\tsafety_checker=None,\n",
				").to(\"cuda\")\n",
				"base.unet = torch.compile(pipe.unet, mode=\"reduce-overhead\", fullgraph=True)"
			]
		},
		{
			"cell_type": "code",
			"execution_count": null,
			"metadata": {},
			"outputs": [],
			"source": [
				"images = pipe(\n",
				"\tprompt=\"a photo of an astronaut riding a horse on mars\",\n",
				"\t# negative_prompt=\"\",\n",
				"\t# height=768, width=768,\n",
				"\tnum_images_per_prompt=5,\n",
				"\tguidance_scale=7.5, # should be between 0 and 20\n",
				"\tnum_inference_steps=50, # should be between 10 and 150\n",
				").images\n",
				"\n",
				"mediapy.show_images(images)\n",
				"# images[0].save(\"output.jpg\")"
			]
		},
		{
			"cell_type": "code",
			"execution_count": null,
			"metadata": {},
			"outputs": [],
			"source": [
				"base = StableDiffusionXLPipeline.from_pretrained(\n",
				"\t\"stabilityai/stable-diffusion-xl-base-1.0\",\n",
				"\ttorch_dtype=torch.float16,\n",
				"\tvariant=\"fp16\",\n",
				").to(\"cuda\")\n",
				"base.unet = torch.compile(base.unet, mode=\"reduce-overhead\", fullgraph=True)"
			]
		},
		{
			"cell_type": "code",
			"execution_count": null,
			"metadata": {},
			"outputs": [],
			"source": [
				"pos_prompt = \"Astronaut in a jungle, cold color palette, muted colors, detailed, 8k\"\n",
				"# neg_prompt = \"\"\n",
				"\n",
				"image = base(\n",
				"\tprompt=pos_prompt,\n",
				"\t# negative_prompt=neg_prompt,\n",
				"\t# height=1024, width=1024,\n",
				"\tnum_inference_steps=40,\n",
				"\tguidance_scale=7.5,\n",
				"\tdenoising_end=0.8,\n",
				"\toutput_type=\"latent\",\n",
				").images\n",
				"\n",
				"del base\n",
				"torch.cuda.empty_cache()"
			]
		},
		{
			"cell_type": "code",
			"execution_count": null,
			"metadata": {},
			"outputs": [],
			"source": [
				"refiner = StableDiffusionXLImg2ImgPipeline.from_pretrained(\n",
				"\t\"stabilityai/stable-diffusion-xl-refiner-1.0\",\n",
				"\ttorch_dtype=torch.float16,\n",
				"\tvariant=\"fp16\",\n",
				"\ttext_encoder_2=base.text_encoder_2,\n",
				"\tvae=base.vae,\n",
				").to(\"cuda\")\n",
				"refiner.unet = torch.compile(refiner.unet, mode=\"reduce-overhead\", fullgraph=True)"
			]
		},
		{
			"cell_type": "code",
			"execution_count": null,
			"metadata": {},
			"outputs": [],
			"source": [
				"image_bis = refiner(\n",
				"\tprompt=pos_prompt,\n",
				"\t# negative_prompt=neg_prompt,\n",
				"\t# height=1024, width=1024,\n",
				"\tnum_inference_steps=10,\n",
				"\tguidance_scale=7.5,\n",
				"\tdenoising_start=0.8,\n",
				"\timage=image,\n",
				").images\n",
				"\n",
				"mediapy.show_images(image_bis)\n",
				"# image_bis[0].save(\"output.jpg\")"
			]
		}
	],
	"metadata": {
		"accelerator": "GPU",
		"colab": {
			"collapsed_sections": [],
			"name": "stable_diffusion.ipynb",
			"private_outputs": true,
			"provenance": []
		},
		"gpuClass": "standard",
		"kernelspec": {
			"display_name": "Python 3",
			"name": "python3"
		},
		"language_info": {
			"name": "python"
		}
	},
	"nbformat": 4,
	"nbformat_minor": 2
}
