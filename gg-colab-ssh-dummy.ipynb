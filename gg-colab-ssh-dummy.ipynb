{
	"nbformat": 4,
	"nbformat_minor": 0,
	"metadata": {
		"colab": {
			"name": "gg colab ssh dummy.ipynb",
			"provenance": [],
			"collapsed_sections": [
				"k1YH7ofaC41f",
				"jXbKgBMjD2VT",
				"2aSy-R7o6x2Z",
				"4G95ghbn5TO_",
				"sFcoVepR7IZr",
				"U_MpzGcIjexe"
			],
			"include_colab_link": true
		},
		"kernelspec": {
			"display_name": "Python 3",
			"name": "python3"
		}
	},
	"cells": [
		{
			"cell_type": "markdown",
			"metadata": {
				"id": "view-in-github",
				"colab_type": "text"
			},
			"source": [
				"<a href=\"https://colab.research.google.com/gist/phineas-pta/ba6cab65a993b43452860a5b94b645cb/gg-colab-ssh-dummy.ipynb\" target=\"_parent\"><img src=\"https://colab.research.google.com/assets/colab-badge.svg\" alt=\"Open In Colab\"/></a>"
			]
		},
		{
			"cell_type": "markdown",
			"metadata": {
				"id": "hIN35MVi6pHK"
			},
			"source": [
				"# 0. preliminary\n",
				"\n",
				"this notebook shows how to\n",
				"\n",
				" - ssh to Google Colab (using [`colab-ssh`](https://github.com/WassimBenzarti/colab-ssh))\n",
				" - open new instances of Jupyter (Notebook or Lab), Julia Pluto\n",
				" - some settings that may be useful"
			]
		},
		{
			"cell_type": "markdown",
			"metadata": {
				"id": "k1YH7ofaC41f"
			},
			"source": [
				"## 0.0. System info\n",
				"\n",
				"don't need `sudo` because"
			]
		},
		{
			"cell_type": "code",
			"metadata": {
				"id": "SBQYaARqheEe"
			},
			"source": [
				"!whoami"
			],
			"execution_count": null,
			"outputs": []
		},
		{
			"cell_type": "markdown",
			"metadata": {
				"id": "r11l6z-VrRQ0"
			},
			"source": [
				"the current dir (then we change the default starting dir in shell)"
			]
		},
		{
			"cell_type": "code",
			"metadata": {
				"id": "Ka05sUl2u-AZ"
			},
			"source": [
				"!pwd"
			],
			"execution_count": null,
			"outputs": []
		},
		{
			"cell_type": "markdown",
			"metadata": {
				"id": "376rAXCvrd8f"
			},
			"source": [
				"how many threads available (for Julia)"
			]
		},
		{
			"cell_type": "code",
			"metadata": {
				"id": "G7rXB7iGF_S2"
			},
			"source": [
				"!lscpu | grep -E '^Thread|^Core|^Socket|^CPU\\('"
			],
			"execution_count": null,
			"outputs": []
		},
		{
			"cell_type": "markdown",
			"metadata": {
				"id": "UMzBt8iIrlm_"
			},
			"source": [
				"GPU info (if GPU runtime)"
			]
		},
		{
			"cell_type": "code",
			"metadata": {
				"id": "xQHPAX3gHI9i"
			},
			"source": [
				"!nvidia-smi -q --display=MEMORY"
			],
			"execution_count": null,
			"outputs": []
		},
		{
			"cell_type": "markdown",
			"metadata": {
				"id": "8oQcrwbqrrAE"
			},
			"source": [
				"OS info"
			]
		},
		{
			"cell_type": "code",
			"metadata": {
				"id": "M5QrUzq985Aq"
			},
			"source": [
				"!cat /etc/os-release"
			],
			"execution_count": null,
			"outputs": []
		},
		{
			"cell_type": "markdown",
			"metadata": {
				"id": "rAqrPQ0O2016"
			},
			"source": [
				"## 0.1. Update + install some stuff\n",
				"\n",
				"hide output with `%%capture` magic"
			]
		},
		{
			"cell_type": "code",
			"metadata": {
				"id": "FF7QFrUC9BQG"
			},
			"source": [
				"%%capture\n",
				"%%bash\n",
				"\n",
				"apt-get update\n",
				"apt-get dist-upgrade\n",
				"\n",
				"apt-get install vim zsh lshw xvfb python-opengl x11-utils # libv8-dev # for rstan\n",
				"\n",
				"apt-get clean\n",
				"apt-get autoremove --purge\n",
				"\n",
				"pip3 install colab_ssh arviz radian watermark prince jill jupyterlab gym pyvirtualdisplay scikit-video nodejs"
			],
			"execution_count": null,
			"outputs": []
		},
		{
			"cell_type": "markdown",
			"metadata": {
				"id": "zO-UaylVneG5"
			},
			"source": [
				"~40min long when installing Julia, CmdStan & R pkgs"
			]
		},
		{
			"cell_type": "code",
			"metadata": {
				"id": "AYptTcNbndjc"
			},
			"source": [
				"%%capture\n",
				"%%bash\n",
				"\n",
				"pip3 install -U cmdstanpy # replace old version\n",
				"install_cmdstan -d /opt/cmdstan\n",
				"\n",
				"R -e 'install.packages(c(\"FactoMineR\", \"reticulate\", \"caret\", \"keras\")) #, \"shiny\", \"plotly\"))'\n",
				"echo \"Sys.setenv(RETICULATE_PYTHON='$(which python3)')\" | tee -a \"$(find / -mount -name Rprofile)\"\n",
				"\n",
				"jill install --confirm # install Julia\n",
				"\n",
				"# customize Julia (file not existed so create new)\n",
				"mkdir -p ~/.julia/config\n",
				"tee ~/.julia/config/startup.jl <<EOT\n",
				"ENV[\"PYTHON\"] = \"$(which python3)\"\n",
				"ENV[\"CMDSTAN_HOME\"] = ENV[\"JULIA_CMDSTAN_HOME\"] = \"$(echo /opt/cmdstan/*)\" # cmdstan dir is 1 level below\n",
				"ENV[\"DATADEPS_ALWAYS_ACCEPT\"] = true\n",
				"EOT\n",
				"\n",
				"# below cmd: must use double quotes in Julia; bash may collapse new line so\n",
				"# any comment must be nested and statement must be ended with semicolon\n",
				"julia --threads 2 -e 'import Pkg; Pkg.add([\n",
				"    \"IJulia\", \"JSONTables\", \"StatsBase\", \"Plots\", \"DataFrames\", \"MLBase\", \"Symbolics\", \"MLJ\",\n",
				"    \"JuMP\", \"Flux\", \"StatsPlots\", \"Distances\", \"Clustering\", \"BSON\", \"MultivariateStats\",\n",
				"    \"Turing\", \"StatsModels\", \"Stan\", \"Optim\", \"TimeSeries\", \"MLDatasets\", \"CSV\", \"XLSX\", \"GLM\",\n",
				"    \"Pluto\", \"PlutoUI\", \"OhMyREPL\", \"Pipe\", \"PackageCompiler\", \"PyPlot\", \"CategoricalArrays\",\n",
				"    \"Distributions\", \"KernelDensity\", \"DataFramesMeta\", \"HypothesisTests\", \"Zygote\", \"ArviZ\",\n",
				"    \"Calculus\", \"OnlineStats\", \"Roots\", \"LaTeXStrings\", \"PGFPlots\", \"MCMCChains\", \"CUDA\",\n",
				"]); Pkg.precompile();\n",
				"using PackageCompiler, OhMyREPL;\n",
				"create_sysimage(:OhMyREPL; replace_default = true);'"
			],
			"execution_count": null,
			"outputs": []
		},
		{
			"cell_type": "markdown",
			"metadata": {
				"id": "aViNcibk--ZB"
			},
			"source": [
				"some misc settings"
			]
		},
		{
			"cell_type": "code",
			"metadata": {
				"id": "RdvSyOph_CVv"
			},
			"source": [
				"%%capture\r\n",
				"%%bash\r\n",
				"\r\n",
				"chsh -s $(which zsh) # change shell\r\n",
				"sh -c \"$(wget -O- https://raw.githubusercontent.com/ohmyzsh/ohmyzsh/master/tools/install.sh)\" \"\" --unattended\r\n",
				"git clone https://github.com/zsh-users/zsh-syntax-highlighting.git ~/.oh-my-zsh/plugins/zsh-syntax-highlighting\r\n",
				"git clone https://github.com/vim-airline/vim-airline.git ~/.vim/pack/dist/start/vim-airline\r\n",
				"\r\n",
				"# customize zsh with oh-my-zsh\r\n",
				"sed -i 's/plugins=(git)/plugins=(colored-man-pages zsh-syntax-highlighting colorize)/;\r\n",
				"s/ZSH_THEME=\"robbyrussell\"/ZSH_THEME=\"agnoster\"/;' ~/.zshrc\r\n",
				"\r\n",
				"tee -a ~/.zshrc <<EOT\r\n",
				"# some env var\r\n",
				"export TF_XLA_FLAGS='--tf_xla_auto_jit=2 --tf_xla_cpu_global_jit' # enable XLA\r\n",
				"export JULIA_NUM_THREADS=2 # enable multi-threading in Julia\r\n",
				"export CMDSTAN=\"$(echo /opt/cmdstan/*)\" # cmdstan dir is 1 level below\r\n",
				"\r\n",
				"alias ipy3='python3 -m IPython'\r\n",
				"alias jupy3='jupyter console --existing /content/colab.json' # save current colab kernel info\r\n",
				"\r\n",
				"# programs to be used with SSH tunneling (change port if you want)\r\n",
				"alias pluto='julia -e \"using Pluto; Pluto.run(run_notebook_on_load = false, port = 1234, launch_browser = false);\"'\r\n",
				"alias jupylab='jupyter lab --no-browser --allow-root --port 1234'\r\n",
				"\r\n",
				"# change to current dir\r\n",
				"cd /content\r\n",
				"EOT\r\n",
				"\r\n",
				"# customize vim (file not existed so create new)\r\n",
				"tee ~/.vimrc <<EOT\r\n",
				"set visualbell\r\n",
				"set noerrorbells\r\n",
				"set number\r\n",
				"set encoding=UTF-8\r\n",
				"set tabstop=4\r\n",
				"set shiftwidth=4\r\n",
				"let g:airline_powerline_fonts=1\r\n",
				"EOT"
			],
			"execution_count": null,
			"outputs": []
		},
		{
			"cell_type": "markdown",
			"metadata": {
				"id": "jXbKgBMjD2VT"
			},
			"source": [
				"## 0.2. save current colab kernel info"
			]
		},
		{
			"cell_type": "code",
			"metadata": {
				"id": "Kmh2WxeBEWyy"
			},
			"source": [
				"import re, json"
			],
			"execution_count": null,
			"outputs": []
		},
		{
			"cell_type": "markdown",
			"metadata": {
				"id": "NeFQ9A9jEXb8"
			},
			"source": [
				"capture output in `kern` for later use"
			]
		},
		{
			"cell_type": "code",
			"metadata": {
				"id": "pAur-0FVAGAI"
			},
			"source": [
				"%%capture kern\n",
				"%connect_info"
			],
			"execution_count": null,
			"outputs": []
		},
		{
			"cell_type": "markdown",
			"metadata": {
				"id": "RQo5PZVAEbXx"
			},
			"source": [
				"save to JSON file"
			]
		},
		{
			"cell_type": "code",
			"metadata": {
				"id": "oOEF7z7LAsFx"
			},
			"source": [
				"colab_kern = json.loads(re.search(\n",
				"    pattern = r\"\\{[^}]+}\",\n",
				"    string = kern.stdout\n",
				").group())\n",
				"with open('colab.json', 'w') as outfile:\n",
				"    json.dump(colab_kern, outfile)"
			],
			"execution_count": null,
			"outputs": []
		},
		{
			"cell_type": "markdown",
			"metadata": {
				"id": "2aSy-R7o6x2Z"
			},
			"source": [
				"# 1. connect\n",
				"\n",
				"capture output for later use"
			]
		},
		{
			"cell_type": "code",
			"metadata": {
				"id": "RkiljP_QEaet"
			},
			"source": [
				"from colab_ssh import launch_ssh_cloudflared"
			],
			"execution_count": null,
			"outputs": []
		},
		{
			"cell_type": "code",
			"metadata": {
				"id": "Sr58USE5NaLX"
			},
			"source": [
				"%%capture connect_ssh\r\n",
				"launch_ssh_cloudflared(password = \"testoo\")"
			],
			"execution_count": null,
			"outputs": []
		},
		{
			"cell_type": "code",
			"metadata": {
				"id": "7WW6tTZ8NhP9"
			},
			"source": [
				"link = re.search(\r\n",
				"    pattern = r\"(?<=<code>)[a-z\\-]+\\.trycloudflare\\.com(?=</code>)\",\r\n",
				"    string = connect_ssh.outputs[0].data['text/html']\r\n",
				").group()"
			],
			"execution_count": null,
			"outputs": []
		},
		{
			"cell_type": "markdown",
			"metadata": {
				"id": "uIIdYjtCpl6p"
			},
			"source": [
				"download Cloudflare [here](https://github.com/cloudflare/cloudflared/releases)\n",
				"\n",
				"create `colab-ssh-config` file with following text:\n",
				"```\n",
				"Host *.trycloudflare.com\n",
				"\tHostName %h\n",
				"\tUser root\n",
				"\tPort 22\n",
				"\tProxyCommand <PATH TO>/cloudflared-amd64/cloudflared.exe access ssh --hostname %h\n",
				"```"
			]
		},
		{
			"cell_type": "code",
			"metadata": {
				"id": "qFzaUk1mWde3"
			},
			"source": [
				"ssh_file = r\"D:\\w\\colab-ssh-config\""
			],
			"execution_count": null,
			"outputs": []
		},
		{
			"cell_type": "markdown",
			"metadata": {
				"id": "eJgX_RZ_MC-4"
			},
			"source": [
				"## 1.1. SSH\r\n",
				"\r\n",
				"in Windows: remember to enable `OpenSSH`"
			]
		},
		{
			"cell_type": "code",
			"metadata": {
				"id": "Twyfh-oWFvLV"
			},
			"source": [
				"print(\"ssh -F\", ssh_file, link)"
			],
			"execution_count": null,
			"outputs": []
		},
		{
			"cell_type": "markdown",
			"metadata": {
				"id": "NykFqQyif4iX"
			},
			"source": [
				"if you want to use PuTTY: instructions [here](https://developers.cloudflare.com/cloudflare-one/applications/non-HTTP/ssh/putty-clients)"
			]
		},
		{
			"cell_type": "markdown",
			"metadata": {
				"id": "dxasQKXWEHfa"
			},
			"source": [
				"## 1.2. SSH Tunneling\r\n",
				"\r\n",
				"to run Jupyter, Pluto\r\n",
				"\r\n",
				"all use the same port 1234 so do not run all at once (or considering change port for each)"
			]
		},
		{
			"cell_type": "code",
			"metadata": {
				"id": "vGqtxR9GEGLp"
			},
			"source": [
				"print(\"ssh -F\", ssh_file, link, \"-L 1234:localhost:1234\")"
			],
			"execution_count": null,
			"outputs": []
		},
		{
			"cell_type": "markdown",
			"metadata": {
				"id": "fRn_YzCl-znf"
			},
			"source": [
				"free up port before"
			]
		},
		{
			"cell_type": "code",
			"metadata": {
				"id": "LeLBUSP6-x5h"
			},
			"source": [
				"!fuser -k 1234/tcp"
			],
			"execution_count": null,
			"outputs": []
		},
		{
			"cell_type": "markdown",
			"metadata": {
				"id": "k-lzfq6B309J"
			},
			"source": [
				"now you can run `pluto` or `jupylab` in your terminal\r\n",
				"\r\n",
				"don't run here in this colab because `Ctrl+C` in your terminal is better"
			]
		},
		{
			"cell_type": "markdown",
			"metadata": {
				"id": "4G95ghbn5TO_"
			},
			"source": [
				"# 2. keep Colab alive"
			]
		},
		{
			"cell_type": "code",
			"metadata": {
				"id": "3UmmUMB75WFI"
			},
			"source": [
				"1 + 2 # occasionally run"
			],
			"execution_count": null,
			"outputs": []
		},
		{
			"cell_type": "markdown",
			"metadata": {
				"id": "fe9xiEX_pJ5H"
			},
			"source": [
				"automated solution with JS: open browser inspector view"
			]
		},
		{
			"cell_type": "code",
			"metadata": {
				"id": "2oCuGnpKpPPI"
			},
			"source": [
				"%%javascript\n",
				"function ClickConnect() {\n",
				"    console.log(\"Working\");\n",
				"    document.querySelector(\"colab-connect-button\").shadowRoot.getElementById(\"connect\").click();\n",
				"}\n",
				"setInterval(ClickConnect, 300000)"
			],
			"execution_count": null,
			"outputs": []
		},
		{
			"cell_type": "markdown",
			"metadata": {
				"id": "mo05v1VzslIh"
			},
			"source": [
				"for multi-line code block, use:\n",
				"\n",
				"*   `ctrl+o` **OR**\n",
				"*   `%cpaste` then paste code\n",
				"\n"
			]
		},
		{
			"cell_type": "markdown",
			"metadata": {
				"id": "sFcoVepR7IZr"
			},
			"source": [
				"# 3. get plots (or files)\n",
				"\n",
				"in Julia, use `PyPlot`"
			]
		},
		{
			"cell_type": "markdown",
			"metadata": {
				"id": "uKDsxBV7F5F8"
			},
			"source": [
				"## 3.0. change fig size\n",
				"\n",
				"default `matplotlib figsize = 6.4÷4.8` (4÷3)"
			]
		},
		{
			"cell_type": "code",
			"metadata": {
				"id": "iVt46cQyZwfG"
			},
			"source": [
				"newSize = (8, 6) # (12, 9) # (16, 9)"
			],
			"execution_count": null,
			"outputs": []
		},
		{
			"cell_type": "code",
			"metadata": {
				"id": "nd027Nsv8tbG"
			},
			"source": [
				"import matplotlib as mpl, matplotlib.pyplot as plt, seaborn as sns"
			],
			"execution_count": null,
			"outputs": []
		},
		{
			"cell_type": "code",
			"metadata": {
				"id": "J-nZXRaIGAKr"
			},
			"source": [
				"mpl.rc(\"figure\", **{\"figsize\": newSize, \"autolayout\": True})"
			],
			"execution_count": null,
			"outputs": []
		},
		{
			"cell_type": "code",
			"metadata": {
				"id": "Gf9WBc1GGTnx"
			},
			"source": [
				"plt.figure(figsize = newSize, tight_layout = True)"
			],
			"execution_count": null,
			"outputs": []
		},
		{
			"cell_type": "code",
			"metadata": {
				"id": "dVFS5vKiGaio"
			},
			"source": [
				"g = sns.displot(data, bins = \"sqrt\", kde = True)\n",
				"g.fig.set_figwidth(newSize[0])\n",
				"g.fig.set_figheight(newSize[1])"
			],
			"execution_count": null,
			"outputs": []
		},
		{
			"cell_type": "markdown",
			"metadata": {
				"id": "HFZAjx0F6nt8"
			},
			"source": [
				"## 3.1 sftp"
			]
		},
		{
			"cell_type": "code",
			"metadata": {
				"id": "C43YKykabWZ_"
			},
			"source": [
				"print(\"sftp -F\", ssh_file, link)"
			],
			"execution_count": null,
			"outputs": []
		},
		{
			"cell_type": "markdown",
			"metadata": {
				"id": "gSsGsOvRt24F"
			},
			"source": [
				"`savefig` must be executed together with plotting code, not separately"
			]
		},
		{
			"cell_type": "code",
			"metadata": {
				"id": "TI8MjWPM7wmG"
			},
			"source": [
				"plt.plot([1,2,3],[4,5,6])\n",
				"plt.savefig('/content/abc.png')"
			],
			"execution_count": null,
			"outputs": []
		},
		{
			"cell_type": "code",
			"metadata": {
				"id": "gleIf5Ks7ZIe"
			},
			"source": [
				"!get /content/abc.png Desktop/abc.png"
			],
			"execution_count": null,
			"outputs": []
		},
		{
			"cell_type": "markdown",
			"metadata": {
				"id": "a3wj8StqldXQ"
			},
			"source": [
				"## 3.3 gg drive\n",
				"\n",
				"2 options\n",
				"\n",
				"*   use sidebar for GUI\n",
				"*   CLI below\n"
			]
		},
		{
			"cell_type": "code",
			"metadata": {
				"id": "gWTduXeO8nS4"
			},
			"source": [
				"from google.colab import drive\n",
				"from os import environ as osenv"
			],
			"execution_count": null,
			"outputs": []
		},
		{
			"cell_type": "code",
			"metadata": {
				"id": "aM04BOpQp4r9"
			},
			"source": [
				"wdir = '/content/drive/My Drive/Colab Notebooks/'\n",
				"print(osenv['CLOUDSDK_CONFIG'])"
			],
			"execution_count": null,
			"outputs": []
		},
		{
			"cell_type": "code",
			"metadata": {
				"id": "c2j1giKhlcPI"
			},
			"source": [
				"drive.mount('/content/drive')"
			],
			"execution_count": null,
			"outputs": []
		},
		{
			"cell_type": "code",
			"metadata": {
				"id": "_N_pNowvlrjE"
			},
			"source": [
				"with open(f'{wdir}foo.txt', 'w') as f:\n",
				"    f.write('Hello Google Drive!')"
			],
			"execution_count": null,
			"outputs": []
		},
		{
			"cell_type": "code",
			"metadata": {
				"id": "84Y8f0snnJUy"
			},
			"source": [
				"plt.plot([1,2,3],[4,5,6])\n",
				"plt.savefig(f'{wdir}abc.png')"
			],
			"execution_count": null,
			"outputs": []
		},
		{
			"cell_type": "code",
			"metadata": {
				"id": "9dMgU_qRlvYs"
			},
			"source": [
				"drive.flush_and_unmount()"
			],
			"execution_count": null,
			"outputs": []
		},
		{
			"cell_type": "markdown",
			"metadata": {
				"id": "U_MpzGcIjexe"
			},
			"source": [
				"# 4. Save object"
			]
		},
		{
			"cell_type": "code",
			"metadata": {
				"id": "oPyqQr1T9no0"
			},
			"source": [
				"import pickle\n",
				"\n",
				"pickle.dump(link, file = open(f\"{wdir}bar.pkl\", \"wb\"), protocol = pickle.HIGHEST_PROTOCOL) # save\n",
				"link_reloaded = pickle.load(open(f\"{wdir}bar.pkl\", \"rb\")) # reload"
			],
			"execution_count": null,
			"outputs": []
		},
		{
			"cell_type": "markdown",
			"metadata": {
				"id": "lNzCa-9M9mtF"
			},
			"source": [
				"`pickle` often fails, `dill` can help"
			]
		},
		{
			"cell_type": "code",
			"metadata": {
				"id": "zZALPa34jiIy"
			},
			"source": [
				"import dill\n",
				"\n",
				"dill.dump(link, file = open(f\"{wdir}bar.pkl\", \"wb\"), protocol = pickle.HIGHEST_PROTOCOL) # save\n",
				"link_reloaded = dill.load(open(f\"{wdir}bar.pkl\", \"rb\")) # reload"
			],
			"execution_count": null,
			"outputs": []
		},
		{
			"cell_type": "markdown",
			"metadata": {
				"id": "_Bw1bmIML1aG"
			},
			"source": [
				"# 5. Miscellaneaous"
			]
		},
		{
			"cell_type": "markdown",
			"metadata": {
				"id": "r8iUc17-1RQA"
			},
			"source": [
				"## 5.1. TensorBoard"
			]
		},
		{
			"cell_type": "code",
			"metadata": {
				"id": "teAJiEl51VWt"
			},
			"source": [
				"%load_ext tensorboard"
			],
			"execution_count": null,
			"outputs": []
		},
		{
			"cell_type": "code",
			"metadata": {
				"id": "H2OfnPGs1ddp"
			},
			"source": [
				"%tensorboard --logdir logs/DB-VAE"
			],
			"execution_count": null,
			"outputs": []
		},
		{
			"cell_type": "markdown",
			"metadata": {
				"id": "JVPOkUaIL82G"
			},
			"source": [
				"## 5.2. run R code"
			]
		},
		{
			"cell_type": "code",
			"metadata": {
				"id": "X6N2-HsFLtnI"
			},
			"source": [
				"%load_ext rpy2.ipython"
			],
			"execution_count": null,
			"outputs": []
		}
	]
}
